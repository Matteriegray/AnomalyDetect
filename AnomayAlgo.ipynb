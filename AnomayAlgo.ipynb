{
  "nbformat": 4,
  "nbformat_minor": 0,
  "metadata": {
    "colab": {
      "provenance": [],
      "authorship_tag": "ABX9TyMnaP38tJWtEDM4UiJfjFFj",
      "include_colab_link": true
    },
    "kernelspec": {
      "name": "python3",
      "display_name": "Python 3"
    },
    "language_info": {
      "name": "python"
    }
  },
  "cells": [
    {
      "cell_type": "markdown",
      "metadata": {
        "id": "view-in-github",
        "colab_type": "text"
      },
      "source": [
        "<a href=\"https://colab.research.google.com/github/Matteriegray/AnomalyDetect/blob/main/AnomayAlgo.ipynb\" target=\"_parent\"><img src=\"https://colab.research.google.com/assets/colab-badge.svg\" alt=\"Open In Colab\"/></a>"
      ]
    },
    {
      "cell_type": "code",
      "execution_count": null,
      "metadata": {
        "id": "bEbg7k5LkU0r"
      },
      "outputs": [],
      "source": [
        "import numpy as np\n",
        "import matplotlib.pyplot as plt\n",
        "from sklearn.datasets import load_iris\n",
        "from sklearn.neighbors import LocalOutlierFactor\n",
        "\n",
        "df = load_iris(as_frame=True).frame\n",
        "X = df[['sepal length (cm)','sepal width (cm)']]"
      ]
    },
    {
      "cell_type": "code",
      "source": [
        "# Here we can use any model like LOF, Isolation forest, One-class SVM, Elliptic- Envelope\n",
        "model = LocalOutlierFactor(n_neighbors=5)\n",
        "\n",
        "model.fit(X)\n",
        "\n",
        "scores = model.negative_outlier_factor_\n",
        "\n",
        "# Identify the points with the highest outlier scores\n",
        "outliers = np.argwhere(scores > np.percentile(scores, 95))"
      ],
      "metadata": {
        "id": "6J5tJOksA62L"
      },
      "execution_count": null,
      "outputs": []
    },
    {
      "cell_type": "code",
      "source": [
        "colors=['green','red']"
      ],
      "metadata": {
        "id": "lX4BF0RRAuxC"
      },
      "execution_count": null,
      "outputs": []
    },
    {
      "cell_type": "code",
      "source": [
        "for i in range(len(X)):\n",
        "\tif i not in outliers:\n",
        "\t\tplt.scatter(X.iloc[i,0], X.iloc[i,1], color=colors[0]) # Not anomly\n",
        "\telse:\n",
        "\t\tplt.scatter(X.iloc[i,0], X.iloc[i,1], color=colors[1]) # anomly\n",
        "\n",
        "plt.xlabel('sepal length (cm)',fontsize=13)\n",
        "plt.ylabel('sepal width (cm)',fontsize=13)\n",
        "plt.title('Anomly by Local Outlier Factor',fontsize=16)\n",
        "plt.show()"
      ],
      "metadata": {
        "id": "_St7-5HxArl-"
      },
      "execution_count": null,
      "outputs": []
    }
  ]
}